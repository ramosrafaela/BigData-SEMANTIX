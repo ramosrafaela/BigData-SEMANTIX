{
 "cells": [
  {
   "cell_type": "markdown",
   "id": "09316809",
   "metadata": {},
   "source": [
    "# Solving the first exercise list from the python module (Big Data Science, SEMANTIX)"
   ]
  },
  {
   "cell_type": "markdown",
   "id": "0a15854c",
   "metadata": {},
   "source": [
    "1.Importe a função randint da biblioteca\n",
    "\n",
    "2.Crie uma lista de números 15 números aleatórios inteiros, que estejam entre 0 e 10, usando a função randint e o método append de uma lista.\n",
    "\n",
    "3.Adicione o comando %%timeit no topo da célula que você criou para a função 2, ele irá calcular o tempo médio de execução do seu código\n",
    "\n",
    "4.Use os argumentos size e type na função randint para repetir a questão 2.\n",
    "\n",
    "5.Calcule o tempo do código feito na questão 4. É menor que o da questão 03?\n",
    "\n",
    "6.Faça uma função com apenas for,range,len, while, if, else, break para ordenar a lista que você criou na questão 04 do menor para o maior número.\n",
    "\n",
    "7.Use a função sorted para refazer a questão 06\n",
    "\n",
    "8.Calcule o tempo da questão 6 e da questão 07"
   ]
  },
  {
   "cell_type": "code",
   "execution_count": 12,
   "id": "5262dd3f",
   "metadata": {},
   "outputs": [],
   "source": [
    "#1.Importe a função randint da biblioteca\n",
    "from random import randint\n",
    "import timeit"
   ]
  },
  {
   "cell_type": "code",
   "execution_count": 35,
   "id": "e2cbb867",
   "metadata": {},
   "outputs": [
    {
     "name": "stdout",
     "output_type": "stream",
     "text": [
      "[1, 10, 10, 6, 7, 9, 5, 10, 5, 10, 7, 6, 8, 3, 4]\n",
      "duracao: 0.000621\n"
     ]
    }
   ],
   "source": [
    "#2.Crie uma lista de números 15 números aleatórios inteiros, que estejam entre 0 e 10, usando a\n",
    "#função randint e o método append de uma lista.\n",
    "import timeit\n",
    "inicio = timeit.default_timer()\n",
    "list_rand = []\n",
    "count = 0 \n",
    "while count < 15:\n",
    "    list_rand.append(random.randint(0, 10))\n",
    "    count = count + 1\n",
    "    \n",
    "print(list_rand)\n",
    "fim = timeit.default_timer()\n",
    "print ('duracao: %f' % (fim - inicio))"
   ]
  },
  {
   "cell_type": "code",
   "execution_count": 39,
   "id": "3ebf030c",
   "metadata": {},
   "outputs": [
    {
     "data": {
      "text/plain": [
       "[1, 3, 4, 5, 5, 6, 6, 7, 7, 8, 9, 10, 10, 10, 10]"
      ]
     },
     "execution_count": 39,
     "metadata": {},
     "output_type": "execute_result"
    }
   ],
   "source": [
    "list_rand"
   ]
  },
  {
   "cell_type": "code",
   "execution_count": 32,
   "id": "1a2efdd5",
   "metadata": {},
   "outputs": [],
   "source": [
    "#6.Faça uma função com apenas for,range,len, while, if, else, break para ordenar a \n",
    "#lista que você criou na questão 04 do menor para o maior número.\n",
    "def ordenacao(randlist):\n",
    "    n = len(randlist)\n",
    "    # Percorre o arranjo A.\n",
    "    for i in range(n):\n",
    "        # Encontra o elemento mínimo em A.\n",
    "        minimo = i\n",
    "        for j in range(i + 1, n):\n",
    "            if randlist[minimo] > randlist[j]:\n",
    "                minimo = j\n",
    "        # Coloca o elemento mínimo na posição correta.\n",
    "        randlist[i], randlist[minimo] = randlist[minimo], randlist[i]   "
   ]
  },
  {
   "cell_type": "code",
   "execution_count": 40,
   "id": "80e618ed",
   "metadata": {},
   "outputs": [
    {
     "data": {
      "text/plain": [
       "[1, 3, 4, 5, 5, 6, 6, 7, 7, 8, 9, 10, 10, 10, 10]"
      ]
     },
     "execution_count": 40,
     "metadata": {},
     "output_type": "execute_result"
    }
   ],
   "source": [
    "list_rand"
   ]
  },
  {
   "cell_type": "code",
   "execution_count": 41,
   "id": "6f069f22",
   "metadata": {},
   "outputs": [],
   "source": [
    "list_rand_ordenado = ordenacao(list_rand[:])"
   ]
  },
  {
   "cell_type": "code",
   "execution_count": 43,
   "id": "cc38277d",
   "metadata": {},
   "outputs": [],
   "source": [
    "list_rand_ordenado"
   ]
  },
  {
   "cell_type": "code",
   "execution_count": null,
   "id": "e8f6ce7d",
   "metadata": {},
   "outputs": [],
   "source": []
  }
 ],
 "metadata": {
  "kernelspec": {
   "display_name": "Python 3 (ipykernel)",
   "language": "python",
   "name": "python3"
  },
  "language_info": {
   "codemirror_mode": {
    "name": "ipython",
    "version": 3
   },
   "file_extension": ".py",
   "mimetype": "text/x-python",
   "name": "python",
   "nbconvert_exporter": "python",
   "pygments_lexer": "ipython3",
   "version": "3.9.7"
  }
 },
 "nbformat": 4,
 "nbformat_minor": 5
}
